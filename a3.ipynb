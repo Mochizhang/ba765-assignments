{
  "nbformat": 4,
  "nbformat_minor": 0,
  "metadata": {
    "colab": {
      "name": "a3",
      "provenance": [],
      "authorship_tag": "ABX9TyNaVdS0a/iwEbBf7arjHqxy",
      "include_colab_link": true
    },
    "kernelspec": {
      "name": "python3",
      "display_name": "Python 3"
    },
    "language_info": {
      "name": "python"
    }
  },
  "cells": [
    {
      "cell_type": "markdown",
      "metadata": {
        "id": "view-in-github",
        "colab_type": "text"
      },
      "source": [
        "<a href=\"https://colab.research.google.com/github/Mochizhang/ba765-assignments/blob/main/a3.ipynb\" target=\"_parent\"><img src=\"https://colab.research.google.com/assets/colab-badge.svg\" alt=\"Open In Colab\"/></a>"
      ]
    },
    {
      "cell_type": "code",
      "metadata": {
        "colab": {
          "base_uri": "https://localhost:8080/"
        },
        "id": "igvRy4w3xM37",
        "outputId": "83b3fc00-ef22-4c4a-f330-0a76cb30718e"
      },
      "source": [
        "# import numpy\n",
        "import numpy as np\n",
        "\n",
        "# define the dice_game class\n",
        "class dice_game(object):\n",
        "    # simulate\n",
        "    def simulate(self):\n",
        "        for i in range(0,self.players):\n",
        "            credits = 10\n",
        "            rounds = 0\n",
        "            while rounds<25 or credits == 0:\n",
        "                # first dice\n",
        "                dice1 = np.random.randint(1,7)\n",
        "                # second dice\n",
        "                dice2 = np.random.randint(1,7) \n",
        "                # Total Grand of the 2 rolls\n",
        "                grand_total = dice1 + dice2\n",
        "                if grand_total <= 9:\n",
        "                    grand_total = grand_total + np.random.randint(1,7)\n",
        "                elif grand_total == 10 and np.random.choice([True,False],p=[0.9,0.1]):\n",
        "                    grand_total = grand_total + np.random.randint(1,7) \n",
        "                else:\n",
        "                    pass\n",
        "                \n",
        "                if grand_total<=9:\n",
        "                    credits = credits - 1\n",
        "                elif grand_total in [10, 12]:\n",
        "                    credits = credits + 1\n",
        "                elif grand_total == 13:\n",
        "                    credits = credits + 2\n",
        "                elif grand_total in [11,14,15]:\n",
        "                    credits = credits -1\n",
        "                else: # 16\n",
        "                    credits = credits + 5\n",
        "                rounds = rounds + 1\n",
        "            \n",
        "            self.games_played.append(rounds)\n",
        "            \n",
        "            self.wallet.append(credits if credits>=0 else 0)\n",
        "                \n",
        "                \n",
        "    # caculate the average of rounds\n",
        "    def avg_rounds(self):\n",
        "        return np.mean(self.games_played)\n",
        "    \n",
        "    # caculate the profit\n",
        "    def profit(self):\n",
        "        return np.sum([10 - i for i in self.wallet])\n",
        "    \n",
        "    # define the attributes\n",
        "    def __init__(self,players=50,wallet=[],games_played=[]):\n",
        "        self.players = players\n",
        "        self.wallet = wallet\n",
        "        self.games_played = games_played\n",
        "\n",
        "\n",
        "game = dice_game()\n",
        "# simulate the game\n",
        "game.simulate()\n",
        "# print the average rounds and the profit\n",
        "print(game.avg_rounds())\n",
        "print(game.profit())"
      ],
      "execution_count": 3,
      "outputs": [
        {
          "output_type": "stream",
          "text": [
            "25.02\n",
            "143\n"
          ],
          "name": "stdout"
        }
      ]
    }
  ]
}