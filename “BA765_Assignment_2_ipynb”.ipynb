{
  "nbformat": 4,
  "nbformat_minor": 0,
  "metadata": {
    "colab": {
      "name": "“BA765_Assignment_2.ipynb”的副本",
      "provenance": [],
      "collapsed_sections": [],
      "include_colab_link": true
    },
    "kernelspec": {
      "name": "python3",
      "display_name": "Python 3"
    }
  },
  "cells": [
    {
      "cell_type": "markdown",
      "metadata": {
        "id": "view-in-github",
        "colab_type": "text"
      },
      "source": [
        "<a href=\"https://colab.research.google.com/github/Mochizhang/ba765-assignments/blob/main/%E2%80%9CBA765_Assignment_2_ipynb%E2%80%9D.ipynb\" target=\"_parent\"><img src=\"https://colab.research.google.com/assets/colab-badge.svg\" alt=\"Open In Colab\"/></a>"
      ]
    },
    {
      "cell_type": "markdown",
      "metadata": {
        "id": "mzv8h94p1lp9"
      },
      "source": [
        "# Assignment 2\n",
        "\n",
        "Complete the questions below by answering each question using the appropriate variable name. Do not change the variable names.  \n",
        "\n",
        "To keep the file sizes small, I provide you with very low volume of data, but this does not mean you should use visual inspection. For example, if the maximum value of a list is asked, find it via code, not via visual inspection. \n",
        "\n",
        "Once you completed this assignment, upload the notebook to your GitHub repository (same one that you used for assignment 1) and export your work also as `a2.py` (with this name and format) and submit to QuestromTools course site.\n",
        "\n",
        "ENJOY!"
      ]
    },
    {
      "cell_type": "markdown",
      "metadata": {
        "id": "81VWGDeE2Khh"
      },
      "source": [
        "# Question 1:\n"
      ]
    },
    {
      "cell_type": "code",
      "metadata": {
        "id": "6S3uH33EH4k6"
      },
      "source": [
        "# STARTER CODE\n",
        "\n",
        "# imports\n",
        "import requests\n",
        "\n",
        "# the URL\n",
        "URL = \"https://www.metaweather.com/api/location/search/?query=boston\"\n",
        "\n",
        "# the API response setup for this question\n",
        "resp = requests.get(URL).json()"
      ],
      "execution_count": null,
      "outputs": []
    },
    {
      "cell_type": "code",
      "metadata": {
        "id": "By9Oc7syIW4u"
      },
      "source": [
        "# Q1:  save a variable q1_1, which _extracts_ the dictionary from the variable resp provided\n",
        "#      to you in the starter code for Question 1\n",
        "q1_1 = resp[0]\n"
      ],
      "execution_count": null,
      "outputs": []
    },
    {
      "cell_type": "code",
      "metadata": {
        "id": "g-7uAzeFI0_f",
        "colab": {
          "base_uri": "https://localhost:8080/"
        },
        "outputId": "237699cb-d2cb-4d86-e8d2-d45b65a6b256"
      },
      "source": [
        "# Q2: In the variable q1_2, save the keys of the dictionary in q1 as a list\n",
        "q1_2 = q1_1.keys()\n",
        "q1_2\n"
      ],
      "execution_count": null,
      "outputs": [
        {
          "output_type": "execute_result",
          "data": {
            "text/plain": [
              "dict_keys(['title', 'location_type', 'woeid', 'latt_long'])"
            ]
          },
          "metadata": {
            "tags": []
          },
          "execution_count": 15
        }
      ]
    },
    {
      "cell_type": "code",
      "metadata": {
        "id": "hzwzYD3vI1H1",
        "colab": {
          "base_uri": "https://localhost:8080/"
        },
        "outputId": "25d37318-047e-437a-8395-bde32d85178d"
      },
      "source": [
        "# Q3: extract the latitude (lat) and longitude (lng) from the dictionary\n",
        "#     Each value should be a float\n",
        "#     TIP: the dictionary key provides guidance on the order\n",
        "q1_3=list(q1_1.values())[3]\n",
        "q1_3_1=q1_3.split(',')\n",
        "print(q1_3)\n",
        "lat=float(q1_3_1[0])\n",
        "lng=float(q1_3_1[1])\n",
        "print(lat)\n",
        "print(lng)\n"
      ],
      "execution_count": null,
      "outputs": [
        {
          "output_type": "stream",
          "text": [
            "42.358631,-71.056702\n",
            "42.358631\n",
            "-71.056702\n"
          ],
          "name": "stdout"
        }
      ]
    },
    {
      "cell_type": "code",
      "metadata": {
        "id": "qUsFGz-4I1LU",
        "colab": {
          "base_uri": "https://localhost:8080/"
        },
        "outputId": "ab936a07-83d7-4773-9480-0d18a65e7bc5"
      },
      "source": [
        "# Q4: using the dictionary key woeid from q1, keep only the even numbers from the id\n",
        "#     save the values as seperate entries in a list. Save this list as the variable q1_4\n",
        "q1_4=list(q1_1.keys())\n",
        "print(q1_4[1::2])\n",
        "\n",
        "\n",
        "\n"
      ],
      "execution_count": null,
      "outputs": [
        {
          "output_type": "stream",
          "text": [
            "['location_type', 'latt_long']\n"
          ],
          "name": "stdout"
        }
      ]
    },
    {
      "cell_type": "markdown",
      "metadata": {
        "id": "WhPv5Ew0Mq-k"
      },
      "source": [
        "# Question 2\n",
        "\n",
        "You have been provided a file that can be read in with the following code:\n",
        "\n",
        "```\n",
        "import pickle\n",
        "with open('q2.pkl', 'rb') as file:\n",
        "  jokes = pickle.load(file)\n",
        "```\n",
        "\n",
        "In your session, `jokes` is a list of dictionaries.  You will use this object to answer the questions below.\n",
        "\n",
        "> Hint:  If you are using Google Colab, you will need to upload the `q2.pkl` file in your gDrive or to the Colab Sesssion. "
      ]
    },
    {
      "cell_type": "code",
      "metadata": {
        "id": "ZbHfSisTMC8A",
        "colab": {
          "base_uri": "https://localhost:8080/"
        },
        "outputId": "d675d169-f8ef-496c-a04f-a3c369b76955"
      },
      "source": [
        "# Q1:  q2_1 should represent a set of the values from the categories key.\n",
        "\n",
        "import pickle\n",
        "with open('/content/sample_data/q2_updated (1).pkl','rb') as file:\n",
        "  jokes = pickle.load(file)\n",
        "  dic0 = []\n",
        "  for i in range(0,len(jokes)):\n",
        "    dic_x_i = dict(jokes[i])\n",
        "    dic_y_i = dic_x_i['value']\n",
        "    dic0.append(dic_y_i)\n",
        "dic0"
      ],
      "execution_count": 4,
      "outputs": [
        {
          "output_type": "execute_result",
          "data": {
            "text/plain": [
              "[{'categories': ['plain'],\n",
              "  'id': 100,\n",
              "  'joke': 'Chuck Norris grinds his coffee with his teeth and boils the water with his own rage.'},\n",
              " {'categories': ['dad joke'],\n",
              "  'id': 150,\n",
              "  'joke': 'Superman once watched an episode of Walker, Texas Ranger. He then cried himself to sleep.'},\n",
              " {'categories': ['bad joke'],\n",
              "  'id': 250,\n",
              "  'joke': 'The truth will set you free. Unless Chuck Norris has you, in which case, forget it buddy!'},\n",
              " {'categories': ['nerdy'],\n",
              "  'id': 480,\n",
              "  'joke': 'The class object inherits from Chuck Norris'},\n",
              " {'categories': ['nerdy'],\n",
              "  'id': 490,\n",
              "  'joke': \"Chuck Norris doesn't need to use AJAX because pages are too afraid to postback anyways.\"}]"
            ]
          },
          "metadata": {
            "tags": []
          },
          "execution_count": 4
        }
      ]
    },
    {
      "cell_type": "code",
      "metadata": {
        "id": "ESgKUxQjKiWR"
      },
      "source": [
        ""
      ],
      "execution_count": null,
      "outputs": []
    },
    {
      "cell_type": "code",
      "metadata": {
        "id": "Wpc1ehwYN0bP",
        "colab": {
          "base_uri": "https://localhost:8080/"
        },
        "outputId": "03fdaf7e-1706-49e7-eeff-b6e298fb2e1f"
      },
      "source": [
        "# Q2: What is the largest value (max) across the key id.  Save this value as q2_2\n",
        "q2_2_0 = []\n",
        "for i in range(0,len(jokes)):\n",
        "  id_i = dict(dic0[i])\n",
        "  q2_2_0.append(id_i['id'])\n",
        "q2_2 =  max(q2_2_0)\n",
        "q2_2  "
      ],
      "execution_count": 5,
      "outputs": [
        {
          "output_type": "execute_result",
          "data": {
            "text/plain": [
              "490"
            ]
          },
          "metadata": {
            "tags": []
          },
          "execution_count": 5
        }
      ]
    },
    {
      "cell_type": "code",
      "metadata": {
        "id": "X-haSSSNgjlj"
      },
      "source": [
        ""
      ],
      "execution_count": null,
      "outputs": []
    },
    {
      "cell_type": "code",
      "metadata": {
        "id": "NDBlwbi3N0gY",
        "colab": {
          "base_uri": "https://localhost:8080/"
        },
        "outputId": "49b2ea27-f72b-4197-8b10-6376f84d73b5"
      },
      "source": [
        "# Q3: Each entry of jokes has a joke key.  This is a sentence pulled randomly from an online jokes api.  \n",
        "#     Remove the following characters '.,!' (punctuation present in these jokes)\n",
        "#     Make the text lower case.\n",
        "#     Add each word in each entry as a key to a dictionary you store in the variable q2_3 below.\n",
        "#     The value for each key should represent the total number of times the word appeared across the jokes object\n",
        "#     Summary: q2_3 should be a dictionary of word:count pairs, where count is the number of times the word appeared\n",
        "#              across all entries of jokes in the joke key\n",
        "#     \n",
        "s = ''\n",
        "q2_3_0 = []\n",
        "q2_3 = {}\n",
        "for each in dic0:\n",
        "  s = s + each['joke']\n",
        "s=s.replace('.','').replace(',','').replace('!','')\n",
        "s=s.lower()\n",
        "words = s.split(' ')\n",
        "\n",
        "for word in words:\n",
        "  if word in q2_3.keys():\n",
        "    q2_3[word] = q2_3[word]+1\n",
        "  else:\n",
        "    q2_3[word] = 1\n",
        "q2_3\n",
        " "
      ],
      "execution_count": 9,
      "outputs": [
        {
          "output_type": "execute_result",
          "data": {
            "text/plain": [
              "{'afraid': 1,\n",
              " 'ajax': 1,\n",
              " 'an': 1,\n",
              " 'and': 1,\n",
              " 'anyways': 1,\n",
              " 'are': 1,\n",
              " 'because': 1,\n",
              " 'boils': 1,\n",
              " 'buddythe': 1,\n",
              " 'case': 1,\n",
              " 'chuck': 3,\n",
              " 'class': 1,\n",
              " 'coffee': 1,\n",
              " 'cried': 1,\n",
              " \"doesn't\": 1,\n",
              " 'episode': 1,\n",
              " 'forget': 1,\n",
              " 'free': 1,\n",
              " 'from': 1,\n",
              " 'grinds': 1,\n",
              " 'has': 1,\n",
              " 'he': 1,\n",
              " 'himself': 1,\n",
              " 'his': 3,\n",
              " 'in': 1,\n",
              " 'inherits': 1,\n",
              " 'it': 1,\n",
              " 'need': 1,\n",
              " 'norris': 3,\n",
              " 'norrischuck': 1,\n",
              " 'object': 1,\n",
              " 'of': 1,\n",
              " 'once': 1,\n",
              " 'own': 1,\n",
              " 'pages': 1,\n",
              " 'postback': 1,\n",
              " 'ragesuperman': 1,\n",
              " 'ranger': 1,\n",
              " 'set': 1,\n",
              " 'sleepthe': 1,\n",
              " 'teeth': 1,\n",
              " 'texas': 1,\n",
              " 'the': 1,\n",
              " 'then': 1,\n",
              " 'to': 3,\n",
              " 'too': 1,\n",
              " 'truth': 1,\n",
              " 'unless': 1,\n",
              " 'use': 1,\n",
              " 'walker': 1,\n",
              " 'watched': 1,\n",
              " 'water': 1,\n",
              " 'which': 1,\n",
              " 'will': 1,\n",
              " 'with': 2,\n",
              " 'you': 2}"
            ]
          },
          "metadata": {
            "tags": []
          },
          "execution_count": 9
        }
      ]
    },
    {
      "cell_type": "markdown",
      "metadata": {
        "id": "Y1PXAz_7y2ze"
      },
      "source": [
        "# Question 3\n",
        "\n",
        "Write a function called `guessing_game` that satisfies the following requirements:\n",
        "\n",
        "1.  When the function is called, the user is prompted to guess a word\n",
        "1.  The function, internally, will randomly choose a word for the game.  The population of word (the word list) is shown below.\n",
        "1.  If the user does not guess the proper word, the user should be prompted again to try another guess\n",
        "1.  The user is only allowed 3 guesses.  If the user fails to guess the chosen word after 3 attempts, the message `Sorry, the game is over.` should be printed to the screen.\n",
        "1.  If the user enters a word not part of the list below, the message `That word is not part of the vocabulary.` should be printed to the screen.  However, if this situation occurs during the 3rd failed guess, only the message in step 4 should be printed.\n",
        "1.  If the user correctly guesses the word, the message `Correct! Well Done.` should be printed on the screen.\n",
        "1.  If a string is not input by the user, the function should print `You did not guess a string, Game Over!` and end the game. You can use `string` package as in `string.ascii_letters` to guarantee that the entry is a string semantically.\n",
        "\n",
        "\n",
        "\n",
        "The word list that should be used by the function:\n",
        "\n",
        "- `numpy`\n",
        "- `seaborn`\n",
        "- `pandas`\n",
        "- `pantab`\n",
        "- `spacy`\n",
        "- `requests`\n",
        "- `tensorflow`\n",
        "\n"
      ]
    },
    {
      "cell_type": "code",
      "metadata": {
        "id": "YdSB88Mi3r3f"
      },
      "source": [
        "# build your function below\n",
        "import random\n",
        "import string\n",
        "\n",
        "def guessing_game():\n",
        "  print('Please guess a word:')\n",
        "  word_list = ['numpy','seaborn','pandas','pantab','spacy','requests','tensorflow']\n",
        "  correct_word = random.choice(word_list)\n",
        "  for word in word_list:\n",
        "    print(word)\n",
        "  guess_count = 1\n",
        "  while guess_count<=3:\n",
        "    guess_count = guess_count+1\n",
        "    guess_str = input()\n",
        "    for letter in guess_str:\n",
        "      if letter not in string.ascii_letters:\n",
        "        print('You did not guess a string,Game Over!')\n",
        "        return\n",
        "      if guess_str in word_list:\n",
        "        if guess_str == correct_word:\n",
        "          print('Correct!Well Done.')\n",
        "          return\n",
        "        else:\n",
        "          print('Please guess again!')\n",
        "      else:\n",
        "        print('That word is not part of the vocabulary.')\n",
        "    print('Sorry,the game is over')\n",
        "\n",
        "if __name__ == '__main__':\n",
        "    guessing_game()\n",
        "\n",
        "\n",
        "\n",
        "\n",
        "\n",
        "\n",
        "\n"
      ],
      "execution_count": null,
      "outputs": []
    }
  ]
}